{
 "cells": [
  {
   "cell_type": "markdown",
   "id": "514e4261",
   "metadata": {},
   "source": [
    "## Loading the dependencies"
   ]
  },
  {
   "cell_type": "code",
   "execution_count": 1,
   "id": "295607aa",
   "metadata": {},
   "outputs": [],
   "source": [
    "import pandas as pd\n",
    "import numpy as np\n",
    "import matplotlib.pyplot as plt\n",
    "from sklearn.model_selection import train_test_split\n",
    "from sklearn.preprocessing import LabelEncoder\n",
    "from sklearn import metrics\n",
    "import seaborn as sns\n",
    "from xgboost import XGBRegressor"
   ]
  },
  {
   "cell_type": "markdown",
   "id": "aadb7e60",
   "metadata": {},
   "source": [
    "## Load data\n",
    "### get data from here:\n",
    "https://www.kaggle.com/brijbhushannanda1979/bigmart-sales-data"
   ]
  },
  {
   "cell_type": "code",
   "execution_count": 2,
   "id": "5f9f75dd",
   "metadata": {
    "scrolled": false
   },
   "outputs": [
    {
     "data": {
      "text/html": [
       "<div>\n",
       "<style scoped>\n",
       "    .dataframe tbody tr th:only-of-type {\n",
       "        vertical-align: middle;\n",
       "    }\n",
       "\n",
       "    .dataframe tbody tr th {\n",
       "        vertical-align: top;\n",
       "    }\n",
       "\n",
       "    .dataframe thead th {\n",
       "        text-align: right;\n",
       "    }\n",
       "</style>\n",
       "<table border=\"1\" class=\"dataframe\">\n",
       "  <thead>\n",
       "    <tr style=\"text-align: right;\">\n",
       "      <th></th>\n",
       "      <th>Item_Identifier</th>\n",
       "      <th>Item_Weight</th>\n",
       "      <th>Item_Fat_Content</th>\n",
       "      <th>Item_Visibility</th>\n",
       "      <th>Item_Type</th>\n",
       "      <th>Item_MRP</th>\n",
       "      <th>Outlet_Identifier</th>\n",
       "      <th>Outlet_Establishment_Year</th>\n",
       "      <th>Outlet_Size</th>\n",
       "      <th>Outlet_Location_Type</th>\n",
       "      <th>Outlet_Type</th>\n",
       "      <th>Item_Outlet_Sales</th>\n",
       "    </tr>\n",
       "  </thead>\n",
       "  <tbody>\n",
       "    <tr>\n",
       "      <th>0</th>\n",
       "      <td>FDA15</td>\n",
       "      <td>9.30</td>\n",
       "      <td>Low Fat</td>\n",
       "      <td>0.016047</td>\n",
       "      <td>Dairy</td>\n",
       "      <td>249.8092</td>\n",
       "      <td>OUT049</td>\n",
       "      <td>1999</td>\n",
       "      <td>Medium</td>\n",
       "      <td>Tier 1</td>\n",
       "      <td>Supermarket Type1</td>\n",
       "      <td>3735.1380</td>\n",
       "    </tr>\n",
       "    <tr>\n",
       "      <th>1</th>\n",
       "      <td>DRC01</td>\n",
       "      <td>5.92</td>\n",
       "      <td>Regular</td>\n",
       "      <td>0.019278</td>\n",
       "      <td>Soft Drinks</td>\n",
       "      <td>48.2692</td>\n",
       "      <td>OUT018</td>\n",
       "      <td>2009</td>\n",
       "      <td>Medium</td>\n",
       "      <td>Tier 3</td>\n",
       "      <td>Supermarket Type2</td>\n",
       "      <td>443.4228</td>\n",
       "    </tr>\n",
       "    <tr>\n",
       "      <th>2</th>\n",
       "      <td>FDN15</td>\n",
       "      <td>17.50</td>\n",
       "      <td>Low Fat</td>\n",
       "      <td>0.016760</td>\n",
       "      <td>Meat</td>\n",
       "      <td>141.6180</td>\n",
       "      <td>OUT049</td>\n",
       "      <td>1999</td>\n",
       "      <td>Medium</td>\n",
       "      <td>Tier 1</td>\n",
       "      <td>Supermarket Type1</td>\n",
       "      <td>2097.2700</td>\n",
       "    </tr>\n",
       "    <tr>\n",
       "      <th>3</th>\n",
       "      <td>FDX07</td>\n",
       "      <td>19.20</td>\n",
       "      <td>Regular</td>\n",
       "      <td>0.000000</td>\n",
       "      <td>Fruits and Vegetables</td>\n",
       "      <td>182.0950</td>\n",
       "      <td>OUT010</td>\n",
       "      <td>1998</td>\n",
       "      <td>NaN</td>\n",
       "      <td>Tier 3</td>\n",
       "      <td>Grocery Store</td>\n",
       "      <td>732.3800</td>\n",
       "    </tr>\n",
       "    <tr>\n",
       "      <th>4</th>\n",
       "      <td>NCD19</td>\n",
       "      <td>8.93</td>\n",
       "      <td>Low Fat</td>\n",
       "      <td>0.000000</td>\n",
       "      <td>Household</td>\n",
       "      <td>53.8614</td>\n",
       "      <td>OUT013</td>\n",
       "      <td>1987</td>\n",
       "      <td>High</td>\n",
       "      <td>Tier 3</td>\n",
       "      <td>Supermarket Type1</td>\n",
       "      <td>994.7052</td>\n",
       "    </tr>\n",
       "  </tbody>\n",
       "</table>\n",
       "</div>"
      ],
      "text/plain": [
       "  Item_Identifier  Item_Weight Item_Fat_Content  Item_Visibility  \\\n",
       "0           FDA15         9.30          Low Fat         0.016047   \n",
       "1           DRC01         5.92          Regular         0.019278   \n",
       "2           FDN15        17.50          Low Fat         0.016760   \n",
       "3           FDX07        19.20          Regular         0.000000   \n",
       "4           NCD19         8.93          Low Fat         0.000000   \n",
       "\n",
       "               Item_Type  Item_MRP Outlet_Identifier  \\\n",
       "0                  Dairy  249.8092            OUT049   \n",
       "1            Soft Drinks   48.2692            OUT018   \n",
       "2                   Meat  141.6180            OUT049   \n",
       "3  Fruits and Vegetables  182.0950            OUT010   \n",
       "4              Household   53.8614            OUT013   \n",
       "\n",
       "   Outlet_Establishment_Year Outlet_Size Outlet_Location_Type  \\\n",
       "0                       1999      Medium               Tier 1   \n",
       "1                       2009      Medium               Tier 3   \n",
       "2                       1999      Medium               Tier 1   \n",
       "3                       1998         NaN               Tier 3   \n",
       "4                       1987        High               Tier 3   \n",
       "\n",
       "         Outlet_Type  Item_Outlet_Sales  \n",
       "0  Supermarket Type1          3735.1380  \n",
       "1  Supermarket Type2           443.4228  \n",
       "2  Supermarket Type1          2097.2700  \n",
       "3      Grocery Store           732.3800  \n",
       "4  Supermarket Type1           994.7052  "
      ]
     },
     "execution_count": 2,
     "metadata": {},
     "output_type": "execute_result"
    }
   ],
   "source": [
    "big_mart_data = pd.read_csv('/Users/karthik/Downloads/train.csv')\n",
    "big_mart_data.head()"
   ]
  },
  {
   "cell_type": "markdown",
   "id": "8b8d05d0",
   "metadata": {},
   "source": [
    "## Data exploration"
   ]
  },
  {
   "cell_type": "code",
   "execution_count": 3,
   "id": "0bc65c0d",
   "metadata": {},
   "outputs": [
    {
     "data": {
      "text/plain": [
       "(8523, 12)"
      ]
     },
     "execution_count": 3,
     "metadata": {},
     "output_type": "execute_result"
    }
   ],
   "source": [
    "big_mart_data.shape"
   ]
  },
  {
   "cell_type": "code",
   "execution_count": 4,
   "id": "ca989c63",
   "metadata": {},
   "outputs": [
    {
     "data": {
      "text/plain": [
       "Item_Identifier              False\n",
       "Item_Weight                   True\n",
       "Item_Fat_Content             False\n",
       "Item_Visibility              False\n",
       "Item_Type                    False\n",
       "Item_MRP                     False\n",
       "Outlet_Identifier            False\n",
       "Outlet_Establishment_Year    False\n",
       "Outlet_Size                   True\n",
       "Outlet_Location_Type         False\n",
       "Outlet_Type                  False\n",
       "Item_Outlet_Sales            False\n",
       "dtype: bool"
      ]
     },
     "execution_count": 4,
     "metadata": {},
     "output_type": "execute_result"
    }
   ],
   "source": [
    "big_mart_data.isnull().any()"
   ]
  },
  {
   "cell_type": "code",
   "execution_count": 5,
   "id": "cc790059",
   "metadata": {},
   "outputs": [
    {
     "data": {
      "text/plain": [
       "Item_Identifier                 0\n",
       "Item_Weight                  1463\n",
       "Item_Fat_Content                0\n",
       "Item_Visibility                 0\n",
       "Item_Type                       0\n",
       "Item_MRP                        0\n",
       "Outlet_Identifier               0\n",
       "Outlet_Establishment_Year       0\n",
       "Outlet_Size                  2410\n",
       "Outlet_Location_Type            0\n",
       "Outlet_Type                     0\n",
       "Item_Outlet_Sales               0\n",
       "dtype: int64"
      ]
     },
     "execution_count": 5,
     "metadata": {},
     "output_type": "execute_result"
    }
   ],
   "source": [
    "big_mart_data.isnull().sum()"
   ]
  },
  {
   "cell_type": "markdown",
   "id": "31ae9c24",
   "metadata": {},
   "source": [
    "We need to take care of these null values."
   ]
  },
  {
   "cell_type": "markdown",
   "id": "372edcae",
   "metadata": {},
   "source": [
    "categorical_features:\n",
    "* Item_Identifier\n",
    "* Item_Fat_Content\n",
    "* Item_Type\n",
    "* Outlet_Identifier\n",
    "* Outlet_Size\n",
    "* Outlet_Location_Type\n",
    "* Outlet_Type"
   ]
  },
  {
   "cell_type": "markdown",
   "id": "15da6e76",
   "metadata": {},
   "source": [
    "We use LabelEncoder to convert the categorical data to numerical data type"
   ]
  },
  {
   "cell_type": "code",
   "execution_count": 6,
   "id": "e15554d4",
   "metadata": {},
   "outputs": [],
   "source": [
    "# Let's replace null values of \"Item_Weight\" with it's mean value\n",
    "\n",
    "big_mart_data['Item_Weight'].fillna(big_mart_data['Item_Weight'].mean(),inplace=True)"
   ]
  },
  {
   "cell_type": "code",
   "execution_count": 7,
   "id": "2aa774d9",
   "metadata": {},
   "outputs": [
    {
     "data": {
      "text/plain": [
       "'Medium'"
      ]
     },
     "execution_count": 7,
     "metadata": {},
     "output_type": "execute_result"
    }
   ],
   "source": [
    "outlet_Size_mode = big_mart_data['Outlet_Size'].mode()[0]\n",
    "outlet_Size_mode"
   ]
  },
  {
   "cell_type": "code",
   "execution_count": 8,
   "id": "0aaf30e3",
   "metadata": {},
   "outputs": [
    {
     "data": {
      "text/plain": [
       "Outlet_Type        Outlet_Size\n",
       "Grocery Store      Small           528\n",
       "Supermarket Type1  Small          1860\n",
       "                   High            932\n",
       "                   Medium          930\n",
       "Supermarket Type2  Medium          928\n",
       "Supermarket Type3  Medium          935\n",
       "Name: Outlet_Size, dtype: int64"
      ]
     },
     "execution_count": 8,
     "metadata": {},
     "output_type": "execute_result"
    }
   ],
   "source": [
    "big_mart_data.groupby('Outlet_Type')['Outlet_Size'].value_counts()"
   ]
  },
  {
   "cell_type": "markdown",
   "id": "e0f59c35",
   "metadata": {},
   "source": [
    "We can see that most of the foe every outlet_type, most of the outlet_size is 'medium' and also the mode of Outlet_Size is also medium. Hence, we use .fillna() method to replace null values with 'medium' for big_mart_data['Outlet_Size']"
   ]
  },
  {
   "cell_type": "code",
   "execution_count": 9,
   "id": "3f48eb54",
   "metadata": {},
   "outputs": [],
   "source": [
    "# Find the mode of Outlet_Size and replace it's null values with it's mode value\n",
    "\n",
    "big_mart_data['Outlet_Size'].fillna(outlet_Size_mode,inplace=True)"
   ]
  },
  {
   "cell_type": "code",
   "execution_count": 10,
   "id": "7276dfdf",
   "metadata": {},
   "outputs": [
    {
     "data": {
      "text/plain": [
       "Item_Identifier              False\n",
       "Item_Weight                  False\n",
       "Item_Fat_Content             False\n",
       "Item_Visibility              False\n",
       "Item_Type                    False\n",
       "Item_MRP                     False\n",
       "Outlet_Identifier            False\n",
       "Outlet_Establishment_Year    False\n",
       "Outlet_Size                  False\n",
       "Outlet_Location_Type         False\n",
       "Outlet_Type                  False\n",
       "Item_Outlet_Sales            False\n",
       "dtype: bool"
      ]
     },
     "execution_count": 10,
     "metadata": {},
     "output_type": "execute_result"
    }
   ],
   "source": [
    "big_mart_data.isna().any()"
   ]
  },
  {
   "cell_type": "markdown",
   "id": "756c9acb",
   "metadata": {},
   "source": [
    "## Data Analysis"
   ]
  },
  {
   "cell_type": "code",
   "execution_count": 11,
   "id": "e9b62e46",
   "metadata": {},
   "outputs": [
    {
     "data": {
      "text/html": [
       "<div>\n",
       "<style scoped>\n",
       "    .dataframe tbody tr th:only-of-type {\n",
       "        vertical-align: middle;\n",
       "    }\n",
       "\n",
       "    .dataframe tbody tr th {\n",
       "        vertical-align: top;\n",
       "    }\n",
       "\n",
       "    .dataframe thead th {\n",
       "        text-align: right;\n",
       "    }\n",
       "</style>\n",
       "<table border=\"1\" class=\"dataframe\">\n",
       "  <thead>\n",
       "    <tr style=\"text-align: right;\">\n",
       "      <th></th>\n",
       "      <th>Item_Weight</th>\n",
       "      <th>Item_Visibility</th>\n",
       "      <th>Item_MRP</th>\n",
       "      <th>Outlet_Establishment_Year</th>\n",
       "      <th>Item_Outlet_Sales</th>\n",
       "    </tr>\n",
       "  </thead>\n",
       "  <tbody>\n",
       "    <tr>\n",
       "      <th>count</th>\n",
       "      <td>8523.000000</td>\n",
       "      <td>8523.000000</td>\n",
       "      <td>8523.000000</td>\n",
       "      <td>8523.000000</td>\n",
       "      <td>8523.000000</td>\n",
       "    </tr>\n",
       "    <tr>\n",
       "      <th>mean</th>\n",
       "      <td>12.857645</td>\n",
       "      <td>0.066132</td>\n",
       "      <td>140.992782</td>\n",
       "      <td>1997.831867</td>\n",
       "      <td>2181.288914</td>\n",
       "    </tr>\n",
       "    <tr>\n",
       "      <th>std</th>\n",
       "      <td>4.226124</td>\n",
       "      <td>0.051598</td>\n",
       "      <td>62.275067</td>\n",
       "      <td>8.371760</td>\n",
       "      <td>1706.499616</td>\n",
       "    </tr>\n",
       "    <tr>\n",
       "      <th>min</th>\n",
       "      <td>4.555000</td>\n",
       "      <td>0.000000</td>\n",
       "      <td>31.290000</td>\n",
       "      <td>1985.000000</td>\n",
       "      <td>33.290000</td>\n",
       "    </tr>\n",
       "    <tr>\n",
       "      <th>25%</th>\n",
       "      <td>9.310000</td>\n",
       "      <td>0.026989</td>\n",
       "      <td>93.826500</td>\n",
       "      <td>1987.000000</td>\n",
       "      <td>834.247400</td>\n",
       "    </tr>\n",
       "    <tr>\n",
       "      <th>50%</th>\n",
       "      <td>12.857645</td>\n",
       "      <td>0.053931</td>\n",
       "      <td>143.012800</td>\n",
       "      <td>1999.000000</td>\n",
       "      <td>1794.331000</td>\n",
       "    </tr>\n",
       "    <tr>\n",
       "      <th>75%</th>\n",
       "      <td>16.000000</td>\n",
       "      <td>0.094585</td>\n",
       "      <td>185.643700</td>\n",
       "      <td>2004.000000</td>\n",
       "      <td>3101.296400</td>\n",
       "    </tr>\n",
       "    <tr>\n",
       "      <th>max</th>\n",
       "      <td>21.350000</td>\n",
       "      <td>0.328391</td>\n",
       "      <td>266.888400</td>\n",
       "      <td>2009.000000</td>\n",
       "      <td>13086.964800</td>\n",
       "    </tr>\n",
       "  </tbody>\n",
       "</table>\n",
       "</div>"
      ],
      "text/plain": [
       "       Item_Weight  Item_Visibility     Item_MRP  Outlet_Establishment_Year  \\\n",
       "count  8523.000000      8523.000000  8523.000000                8523.000000   \n",
       "mean     12.857645         0.066132   140.992782                1997.831867   \n",
       "std       4.226124         0.051598    62.275067                   8.371760   \n",
       "min       4.555000         0.000000    31.290000                1985.000000   \n",
       "25%       9.310000         0.026989    93.826500                1987.000000   \n",
       "50%      12.857645         0.053931   143.012800                1999.000000   \n",
       "75%      16.000000         0.094585   185.643700                2004.000000   \n",
       "max      21.350000         0.328391   266.888400                2009.000000   \n",
       "\n",
       "       Item_Outlet_Sales  \n",
       "count        8523.000000  \n",
       "mean         2181.288914  \n",
       "std          1706.499616  \n",
       "min            33.290000  \n",
       "25%           834.247400  \n",
       "50%          1794.331000  \n",
       "75%          3101.296400  \n",
       "max         13086.964800  "
      ]
     },
     "execution_count": 11,
     "metadata": {},
     "output_type": "execute_result"
    }
   ],
   "source": [
    "big_mart_data.describe()"
   ]
  },
  {
   "cell_type": "code",
   "execution_count": 12,
   "id": "2d0bc25e",
   "metadata": {},
   "outputs": [],
   "source": [
    "sns.set() # gives us a theme for our future plots"
   ]
  },
  {
   "cell_type": "code",
   "execution_count": 13,
   "id": "219befbb",
   "metadata": {},
   "outputs": [
    {
     "name": "stderr",
     "output_type": "stream",
     "text": [
      "/Users/karthik/opt/anaconda3/lib/python3.8/site-packages/seaborn/distributions.py:2557: FutureWarning: `distplot` is a deprecated function and will be removed in a future version. Please adapt your code to use either `displot` (a figure-level function with similar flexibility) or `histplot` (an axes-level function for histograms).\n",
      "  warnings.warn(msg, FutureWarning)\n"
     ]
    },
    {
     "data": {
      "text/plain": [
       "<AxesSubplot:xlabel='Item_Weight', ylabel='Density'>"
      ]
     },
     "execution_count": 13,
     "metadata": {},
     "output_type": "execute_result"
    },
    {
     "data": {
      "image/png": "[encoded data removed]",
      "text/plain": [
       "<Figure size 1080x360 with 1 Axes>"
      ]
     },
     "metadata": {},
     "output_type": "display_data"
    }
   ],
   "source": [
    "plt.figure(figsize=(15,5))\n",
    "sns.distplot(big_mart_data.Item_Weight)"
   ]
  },
  {
   "cell_type": "code",
   "execution_count": 14,
   "id": "f1e5d790",
   "metadata": {},
   "outputs": [
    {
     "name": "stderr",
     "output_type": "stream",
     "text": [
      "/Users/karthik/opt/anaconda3/lib/python3.8/site-packages/seaborn/distributions.py:2557: FutureWarning: `distplot` is a deprecated function and will be removed in a future version. Please adapt your code to use either `displot` (a figure-level function with similar flexibility) or `histplot` (an axes-level function for histograms).\n",
      "  warnings.warn(msg, FutureWarning)\n"
     ]
    },
    {
     "data": {
      "text/plain": [
       "<AxesSubplot:xlabel='Item_Visibility', ylabel='Density'>"
      ]
     },
     "execution_count": 14,
     "metadata": {},
     "output_type": "execute_result"
    },
    {
     "data": {
      "image/png": "[encoded data removed]",
      "text/plain": [
       "<Figure size 1080x360 with 1 Axes>"
      ]
     },
     "metadata": {},
     "output_type": "display_data"
    }
   ],
   "source": [
    "plt.figure(figsize=(15,5))\n",
    "sns.distplot(big_mart_data.Item_Visibility)"
   ]
  },
  {
   "cell_type": "code",
   "execution_count": 15,
   "id": "9ead492a",
   "metadata": {
    "scrolled": false
   },
   "outputs": [
    {
     "name": "stderr",
     "output_type": "stream",
     "text": [
      "/Users/karthik/opt/anaconda3/lib/python3.8/site-packages/seaborn/distributions.py:2557: FutureWarning: `distplot` is a deprecated function and will be removed in a future version. Please adapt your code to use either `displot` (a figure-level function with similar flexibility) or `histplot` (an axes-level function for histograms).\n",
      "  warnings.warn(msg, FutureWarning)\n"
     ]
    },
    {
     "data": {
      "text/plain": [
       "<AxesSubplot:xlabel='Item_MRP', ylabel='Density'>"
      ]
     },
     "execution_count": 15,
     "metadata": {},
     "output_type": "execute_result"
    },
    {
     "data": {
      "image/png": "[encoded data removed]",
      "text/plain": [
       "<Figure size 1080x360 with 1 Axes>"
      ]
     },
     "metadata": {},
     "output_type": "display_data"
    }
   ],
   "source": [
    "plt.figure(figsize=(15,5))\n",
    "sns.distplot(big_mart_data.Item_MRP)"
   ]
  },
  {
   "cell_type": "code",
   "execution_count": 16,
   "id": "08881569",
   "metadata": {},
   "outputs": [
    {
     "data": {
      "text/plain": [
       "<AxesSubplot:xlabel='Outlet_Establishment_Year', ylabel='count'>"
      ]
     },
     "execution_count": 16,
     "metadata": {},
     "output_type": "execute_result"
    },
    {
     "data": {
      "image/png": "[encoded data removed]",
      "text/plain": [
       "<Figure size 1080x360 with 1 Axes>"
      ]
     },
     "metadata": {},
     "output_type": "display_data"
    }
   ],
   "source": [
    "plt.figure(figsize=(15,5))\n",
    "sns.countplot(x= big_mart_data.Outlet_Establishment_Year)"
   ]
  },
  {
   "cell_type": "code",
   "execution_count": 17,
   "id": "7061d807",
   "metadata": {},
   "outputs": [
    {
     "name": "stderr",
     "output_type": "stream",
     "text": [
      "/Users/karthik/opt/anaconda3/lib/python3.8/site-packages/seaborn/distributions.py:2557: FutureWarning: `distplot` is a deprecated function and will be removed in a future version. Please adapt your code to use either `displot` (a figure-level function with similar flexibility) or `histplot` (an axes-level function for histograms).\n",
      "  warnings.warn(msg, FutureWarning)\n"
     ]
    },
    {
     "data": {
      "text/plain": [
       "<AxesSubplot:ylabel='Density'>"
      ]
     },
     "execution_count": 17,
     "metadata": {},
     "output_type": "execute_result"
    },
    {
     "data": {
      "image/png": "[encoded data removed]",
      "text/plain": [
       "<Figure size 1080x360 with 1 Axes>"
      ]
     },
     "metadata": {},
     "output_type": "display_data"
    }
   ],
   "source": [
    "plt.figure(figsize=(15,5))\n",
    "sns.distplot(x= big_mart_data.Item_Outlet_Sales)"
   ]
  },
  {
   "cell_type": "code",
   "execution_count": 18,
   "id": "45de8d18",
   "metadata": {},
   "outputs": [
    {
     "data": {
      "text/plain": [
       "<AxesSubplot:xlabel='Item_Fat_Content', ylabel='count'>"
      ]
     },
     "execution_count": 18,
     "metadata": {},
     "output_type": "execute_result"
    },
    {
     "data": {
      "image/png": "[encoded data removed]",
      "text/plain": [
       "<Figure size 432x288 with 1 Axes>"
      ]
     },
     "metadata": {},
     "output_type": "display_data"
    }
   ],
   "source": [
    "sns.countplot(x= big_mart_data.Item_Fat_Content)"
   ]
  },
  {
   "cell_type": "code",
   "execution_count": 19,
   "id": "7eb99751",
   "metadata": {
    "scrolled": true
   },
   "outputs": [
    {
     "data": {
      "text/plain": [
       "<AxesSubplot:xlabel='Item_Type', ylabel='count'>"
      ]
     },
     "execution_count": 19,
     "metadata": {},
     "output_type": "execute_result"
    },
    {
     "data": {
      "image/png": "[encoded data removed]",
      "text/plain": [
       "<Figure size 1440x360 with 1 Axes>"
      ]
     },
     "metadata": {},
     "output_type": "display_data"
    }
   ],
   "source": [
    "plt.figure(figsize=(20,5))\n",
    "sns.countplot(x= big_mart_data.Item_Type)"
   ]
  },
  {
   "cell_type": "code",
   "execution_count": 20,
   "id": "e3f1cc66",
   "metadata": {},
   "outputs": [
    {
     "data": {
      "text/plain": [
       "<AxesSubplot:xlabel='Outlet_Type', ylabel='count'>"
      ]
     },
     "execution_count": 20,
     "metadata": {},
     "output_type": "execute_result"
    },
    {
     "data": {
      "image/png": "[encoded data removed]",
      "text/plain": [
       "<Figure size 1440x360 with 1 Axes>"
      ]
     },
     "metadata": {},
     "output_type": "display_data"
    }
   ],
   "source": [
    "plt.figure(figsize=(20,5))\n",
    "sns.countplot(x= big_mart_data.Outlet_Type)"
   ]
  },
  {
   "cell_type": "code",
   "execution_count": 21,
   "id": "f923bd1c",
   "metadata": {
    "scrolled": true
   },
   "outputs": [
    {
     "data": {
      "text/plain": [
       "<AxesSubplot:xlabel='Outlet_Size', ylabel='count'>"
      ]
     },
     "execution_count": 21,
     "metadata": {},
     "output_type": "execute_result"
    },
    {
     "data": {
      "image/png": "[encoded data removed]",
      "text/plain": [
       "<Figure size 1440x360 with 1 Axes>"
      ]
     },
     "metadata": {},
     "output_type": "display_data"
    }
   ],
   "source": [
    "plt.figure(figsize=(20,5))\n",
    "sns.countplot(x= big_mart_data.Outlet_Size)"
   ]
  },
  {
   "cell_type": "code",
   "execution_count": 22,
   "id": "96370a69",
   "metadata": {},
   "outputs": [
    {
     "data": {
      "text/plain": [
       "Index(['Item_Identifier', 'Item_Weight', 'Item_Fat_Content', 'Item_Visibility',\n",
       "       'Item_Type', 'Item_MRP', 'Outlet_Identifier',\n",
       "       'Outlet_Establishment_Year', 'Outlet_Size', 'Outlet_Location_Type',\n",
       "       'Outlet_Type', 'Item_Outlet_Sales'],\n",
       "      dtype='object')"
      ]
     },
     "execution_count": 22,
     "metadata": {},
     "output_type": "execute_result"
    }
   ],
   "source": [
    "big_mart_data.columns"
   ]
  },
  {
   "cell_type": "markdown",
   "id": "e918fd0d",
   "metadata": {},
   "source": [
    "## Data pre-processing"
   ]
  },
  {
   "cell_type": "code",
   "execution_count": 23,
   "id": "fb43cbdb",
   "metadata": {},
   "outputs": [],
   "source": [
    "# Let's convert all the category values to numerical values \n",
    "le = LabelEncoder()"
   ]
  },
  {
   "cell_type": "code",
   "execution_count": 24,
   "id": "e499039b",
   "metadata": {},
   "outputs": [],
   "source": [
    "big_mart_data.Item_Fat_Content = le.fit_transform(big_mart_data.Item_Fat_Content)"
   ]
  },
  {
   "cell_type": "code",
   "execution_count": 25,
   "id": "63a2f173",
   "metadata": {},
   "outputs": [],
   "source": [
    "big_mart_data['Item_Identifier'] = le.fit_transform(big_mart_data['Item_Identifier'])"
   ]
  },
  {
   "cell_type": "code",
   "execution_count": 26,
   "id": "26b75b90",
   "metadata": {},
   "outputs": [],
   "source": [
    "big_mart_data.Item_Type = le.fit_transform(big_mart_data.Item_Type)"
   ]
  },
  {
   "cell_type": "code",
   "execution_count": 27,
   "id": "1596858d",
   "metadata": {},
   "outputs": [],
   "source": [
    "big_mart_data.Outlet_Identifier = le.fit_transform(big_mart_data.Outlet_Identifier)"
   ]
  },
  {
   "cell_type": "code",
   "execution_count": 28,
   "id": "62e260be",
   "metadata": {},
   "outputs": [],
   "source": [
    "big_mart_data.Outlet_Size = le.fit_transform(big_mart_data.Outlet_Size)"
   ]
  },
  {
   "cell_type": "code",
   "execution_count": 29,
   "id": "faaa2e5b",
   "metadata": {},
   "outputs": [],
   "source": [
    "big_mart_data.Outlet_Location_Type = le.fit_transform(big_mart_data.Outlet_Location_Type)"
   ]
  },
  {
   "cell_type": "code",
   "execution_count": 30,
   "id": "974a9487",
   "metadata": {},
   "outputs": [],
   "source": [
    "big_mart_data.Outlet_Type = le.fit_transform(big_mart_data.Outlet_Type)"
   ]
  },
  {
   "cell_type": "code",
   "execution_count": 31,
   "id": "d206d2f3",
   "metadata": {
    "scrolled": false
   },
   "outputs": [
    {
     "data": {
      "text/html": [
       "<div>\n",
       "<style scoped>\n",
       "    .dataframe tbody tr th:only-of-type {\n",
       "        vertical-align: middle;\n",
       "    }\n",
       "\n",
       "    .dataframe tbody tr th {\n",
       "        vertical-align: top;\n",
       "    }\n",
       "\n",
       "    .dataframe thead th {\n",
       "        text-align: right;\n",
       "    }\n",
       "</style>\n",
       "<table border=\"1\" class=\"dataframe\">\n",
       "  <thead>\n",
       "    <tr style=\"text-align: right;\">\n",
       "      <th></th>\n",
       "      <th>Item_Identifier</th>\n",
       "      <th>Item_Weight</th>\n",
       "      <th>Item_Fat_Content</th>\n",
       "      <th>Item_Visibility</th>\n",
       "      <th>Item_Type</th>\n",
       "      <th>Item_MRP</th>\n",
       "      <th>Outlet_Identifier</th>\n",
       "      <th>Outlet_Establishment_Year</th>\n",
       "      <th>Outlet_Size</th>\n",
       "      <th>Outlet_Location_Type</th>\n",
       "      <th>Outlet_Type</th>\n",
       "      <th>Item_Outlet_Sales</th>\n",
       "    </tr>\n",
       "  </thead>\n",
       "  <tbody>\n",
       "    <tr>\n",
       "      <th>0</th>\n",
       "      <td>156</td>\n",
       "      <td>9.30</td>\n",
       "      <td>1</td>\n",
       "      <td>0.016047</td>\n",
       "      <td>4</td>\n",
       "      <td>249.8092</td>\n",
       "      <td>9</td>\n",
       "      <td>1999</td>\n",
       "      <td>1</td>\n",
       "      <td>0</td>\n",
       "      <td>1</td>\n",
       "      <td>3735.1380</td>\n",
       "    </tr>\n",
       "    <tr>\n",
       "      <th>1</th>\n",
       "      <td>8</td>\n",
       "      <td>5.92</td>\n",
       "      <td>2</td>\n",
       "      <td>0.019278</td>\n",
       "      <td>14</td>\n",
       "      <td>48.2692</td>\n",
       "      <td>3</td>\n",
       "      <td>2009</td>\n",
       "      <td>1</td>\n",
       "      <td>2</td>\n",
       "      <td>2</td>\n",
       "      <td>443.4228</td>\n",
       "    </tr>\n",
       "    <tr>\n",
       "      <th>2</th>\n",
       "      <td>662</td>\n",
       "      <td>17.50</td>\n",
       "      <td>1</td>\n",
       "      <td>0.016760</td>\n",
       "      <td>10</td>\n",
       "      <td>141.6180</td>\n",
       "      <td>9</td>\n",
       "      <td>1999</td>\n",
       "      <td>1</td>\n",
       "      <td>0</td>\n",
       "      <td>1</td>\n",
       "      <td>2097.2700</td>\n",
       "    </tr>\n",
       "    <tr>\n",
       "      <th>3</th>\n",
       "      <td>1121</td>\n",
       "      <td>19.20</td>\n",
       "      <td>2</td>\n",
       "      <td>0.000000</td>\n",
       "      <td>6</td>\n",
       "      <td>182.0950</td>\n",
       "      <td>0</td>\n",
       "      <td>1998</td>\n",
       "      <td>1</td>\n",
       "      <td>2</td>\n",
       "      <td>0</td>\n",
       "      <td>732.3800</td>\n",
       "    </tr>\n",
       "    <tr>\n",
       "      <th>4</th>\n",
       "      <td>1297</td>\n",
       "      <td>8.93</td>\n",
       "      <td>1</td>\n",
       "      <td>0.000000</td>\n",
       "      <td>9</td>\n",
       "      <td>53.8614</td>\n",
       "      <td>1</td>\n",
       "      <td>1987</td>\n",
       "      <td>0</td>\n",
       "      <td>2</td>\n",
       "      <td>1</td>\n",
       "      <td>994.7052</td>\n",
       "    </tr>\n",
       "  </tbody>\n",
       "</table>\n",
       "</div>"
      ],
      "text/plain": [
       "   Item_Identifier  Item_Weight  Item_Fat_Content  Item_Visibility  Item_Type  \\\n",
       "0              156         9.30                 1         0.016047          4   \n",
       "1                8         5.92                 2         0.019278         14   \n",
       "2              662        17.50                 1         0.016760         10   \n",
       "3             1121        19.20                 2         0.000000          6   \n",
       "4             1297         8.93                 1         0.000000          9   \n",
       "\n",
       "   Item_MRP  Outlet_Identifier  Outlet_Establishment_Year  Outlet_Size  \\\n",
       "0  249.8092                  9                       1999            1   \n",
       "1   48.2692                  3                       2009            1   \n",
       "2  141.6180                  9                       1999            1   \n",
       "3  182.0950                  0                       1998            1   \n",
       "4   53.8614                  1                       1987            0   \n",
       "\n",
       "   Outlet_Location_Type  Outlet_Type  Item_Outlet_Sales  \n",
       "0                     0            1          3735.1380  \n",
       "1                     2            2           443.4228  \n",
       "2                     0            1          2097.2700  \n",
       "3                     2            0           732.3800  \n",
       "4                     2            1           994.7052  "
      ]
     },
     "execution_count": 31,
     "metadata": {},
     "output_type": "execute_result"
    }
   ],
   "source": [
    "big_mart_data.head(5)"
   ]
  },
  {
   "cell_type": "markdown",
   "id": "c8f5cd63",
   "metadata": {},
   "source": [
    "## Train Test Split"
   ]
  },
  {
   "cell_type": "code",
   "execution_count": 32,
   "id": "4047aa20",
   "metadata": {},
   "outputs": [],
   "source": [
    "X = big_mart_data.drop(['Item_Outlet_Sales'],axis=1)\n",
    "y = big_mart_data['Item_Outlet_Sales']"
   ]
  },
  {
   "cell_type": "code",
   "execution_count": 33,
   "id": "dadbd937",
   "metadata": {},
   "outputs": [],
   "source": [
    "X_train, X_test, y_train, y_test = train_test_split(X, y, test_size=0.2, random_state=3)"
   ]
  },
  {
   "cell_type": "code",
   "execution_count": 34,
   "id": "e20f65ef",
   "metadata": {},
   "outputs": [],
   "source": [
    "model = XGBRegressor(learning_rate=0.04)"
   ]
  },
  {
   "cell_type": "code",
   "execution_count": 35,
   "id": "46ab7e20",
   "metadata": {},
   "outputs": [
    {
     "data": {
      "text/plain": [
       "XGBRegressor(base_score=0.5, booster='gbtree', colsample_bylevel=1,\n",
       "             colsample_bynode=1, colsample_bytree=1, gamma=0, gpu_id=-1,\n",
       "             importance_type='gain', interaction_constraints='',\n",
       "             learning_rate=0.04, max_delta_step=0, max_depth=6,\n",
       "             min_child_weight=1, missing=nan, monotone_constraints='()',\n",
       "             n_estimators=100, n_jobs=4, num_parallel_tree=1, random_state=0,\n",
       "             reg_alpha=0, reg_lambda=1, scale_pos_weight=1, subsample=1,\n",
       "             tree_method='exact', validate_parameters=1, verbosity=None)"
      ]
     },
     "execution_count": 35,
     "metadata": {},
     "output_type": "execute_result"
    }
   ],
   "source": [
    "model.fit(X_train,y_train)"
   ]
  },
  {
   "cell_type": "code",
   "execution_count": 36,
   "id": "b9a055bb",
   "metadata": {},
   "outputs": [],
   "source": [
    "y_pred = model.predict(X_test)"
   ]
  },
  {
   "cell_type": "code",
   "execution_count": 37,
   "id": "d0a0c40a",
   "metadata": {},
   "outputs": [
    {
     "data": {
      "text/plain": [
       "0.6256076128623596"
      ]
     },
     "execution_count": 37,
     "metadata": {},
     "output_type": "execute_result"
    }
   ],
   "source": [
    "metrics.r2_score(y_test,y_pred)"
   ]
  },
  {
   "cell_type": "markdown",
   "id": "4ffd75d7",
   "metadata": {},
   "source": [
    "## Now let's use the entire train.csv for training and predict for the test.csv"
   ]
  },
  {
   "cell_type": "code",
   "execution_count": 38,
   "id": "0fc776a0",
   "metadata": {},
   "outputs": [
    {
     "data": {
      "text/plain": [
       "XGBRegressor(base_score=0.5, booster='gbtree', colsample_bylevel=1,\n",
       "             colsample_bynode=1, colsample_bytree=1, gamma=0, gpu_id=-1,\n",
       "             importance_type='gain', interaction_constraints='',\n",
       "             learning_rate=0.04, max_delta_step=0, max_depth=6,\n",
       "             min_child_weight=1, missing=nan, monotone_constraints='()',\n",
       "             n_estimators=100, n_jobs=4, num_parallel_tree=1, random_state=0,\n",
       "             reg_alpha=0, reg_lambda=1, scale_pos_weight=1, subsample=1,\n",
       "             tree_method='exact', validate_parameters=1, verbosity=None)"
      ]
     },
     "execution_count": 38,
     "metadata": {},
     "output_type": "execute_result"
    }
   ],
   "source": [
    "model.fit(X,y)"
   ]
  },
  {
   "cell_type": "code",
   "execution_count": 39,
   "id": "5b73f230",
   "metadata": {},
   "outputs": [
    {
     "data": {
      "text/html": [
       "<div>\n",
       "<style scoped>\n",
       "    .dataframe tbody tr th:only-of-type {\n",
       "        vertical-align: middle;\n",
       "    }\n",
       "\n",
       "    .dataframe tbody tr th {\n",
       "        vertical-align: top;\n",
       "    }\n",
       "\n",
       "    .dataframe thead th {\n",
       "        text-align: right;\n",
       "    }\n",
       "</style>\n",
       "<table border=\"1\" class=\"dataframe\">\n",
       "  <thead>\n",
       "    <tr style=\"text-align: right;\">\n",
       "      <th></th>\n",
       "      <th>Item_Identifier</th>\n",
       "      <th>Item_Weight</th>\n",
       "      <th>Item_Fat_Content</th>\n",
       "      <th>Item_Visibility</th>\n",
       "      <th>Item_Type</th>\n",
       "      <th>Item_MRP</th>\n",
       "      <th>Outlet_Identifier</th>\n",
       "      <th>Outlet_Establishment_Year</th>\n",
       "      <th>Outlet_Size</th>\n",
       "      <th>Outlet_Location_Type</th>\n",
       "      <th>Outlet_Type</th>\n",
       "    </tr>\n",
       "  </thead>\n",
       "  <tbody>\n",
       "    <tr>\n",
       "      <th>0</th>\n",
       "      <td>FDW58</td>\n",
       "      <td>20.750</td>\n",
       "      <td>Low Fat</td>\n",
       "      <td>0.007565</td>\n",
       "      <td>Snack Foods</td>\n",
       "      <td>107.8622</td>\n",
       "      <td>OUT049</td>\n",
       "      <td>1999</td>\n",
       "      <td>Medium</td>\n",
       "      <td>Tier 1</td>\n",
       "      <td>Supermarket Type1</td>\n",
       "    </tr>\n",
       "    <tr>\n",
       "      <th>1</th>\n",
       "      <td>FDW14</td>\n",
       "      <td>8.300</td>\n",
       "      <td>reg</td>\n",
       "      <td>0.038428</td>\n",
       "      <td>Dairy</td>\n",
       "      <td>87.3198</td>\n",
       "      <td>OUT017</td>\n",
       "      <td>2007</td>\n",
       "      <td>NaN</td>\n",
       "      <td>Tier 2</td>\n",
       "      <td>Supermarket Type1</td>\n",
       "    </tr>\n",
       "    <tr>\n",
       "      <th>2</th>\n",
       "      <td>NCN55</td>\n",
       "      <td>14.600</td>\n",
       "      <td>Low Fat</td>\n",
       "      <td>0.099575</td>\n",
       "      <td>Others</td>\n",
       "      <td>241.7538</td>\n",
       "      <td>OUT010</td>\n",
       "      <td>1998</td>\n",
       "      <td>NaN</td>\n",
       "      <td>Tier 3</td>\n",
       "      <td>Grocery Store</td>\n",
       "    </tr>\n",
       "    <tr>\n",
       "      <th>3</th>\n",
       "      <td>FDQ58</td>\n",
       "      <td>7.315</td>\n",
       "      <td>Low Fat</td>\n",
       "      <td>0.015388</td>\n",
       "      <td>Snack Foods</td>\n",
       "      <td>155.0340</td>\n",
       "      <td>OUT017</td>\n",
       "      <td>2007</td>\n",
       "      <td>NaN</td>\n",
       "      <td>Tier 2</td>\n",
       "      <td>Supermarket Type1</td>\n",
       "    </tr>\n",
       "    <tr>\n",
       "      <th>4</th>\n",
       "      <td>FDY38</td>\n",
       "      <td>NaN</td>\n",
       "      <td>Regular</td>\n",
       "      <td>0.118599</td>\n",
       "      <td>Dairy</td>\n",
       "      <td>234.2300</td>\n",
       "      <td>OUT027</td>\n",
       "      <td>1985</td>\n",
       "      <td>Medium</td>\n",
       "      <td>Tier 3</td>\n",
       "      <td>Supermarket Type3</td>\n",
       "    </tr>\n",
       "  </tbody>\n",
       "</table>\n",
       "</div>"
      ],
      "text/plain": [
       "  Item_Identifier  Item_Weight Item_Fat_Content  Item_Visibility    Item_Type  \\\n",
       "0           FDW58       20.750          Low Fat         0.007565  Snack Foods   \n",
       "1           FDW14        8.300              reg         0.038428        Dairy   \n",
       "2           NCN55       14.600          Low Fat         0.099575       Others   \n",
       "3           FDQ58        7.315          Low Fat         0.015388  Snack Foods   \n",
       "4           FDY38          NaN          Regular         0.118599        Dairy   \n",
       "\n",
       "   Item_MRP Outlet_Identifier  Outlet_Establishment_Year Outlet_Size  \\\n",
       "0  107.8622            OUT049                       1999      Medium   \n",
       "1   87.3198            OUT017                       2007         NaN   \n",
       "2  241.7538            OUT010                       1998         NaN   \n",
       "3  155.0340            OUT017                       2007         NaN   \n",
       "4  234.2300            OUT027                       1985      Medium   \n",
       "\n",
       "  Outlet_Location_Type        Outlet_Type  \n",
       "0               Tier 1  Supermarket Type1  \n",
       "1               Tier 2  Supermarket Type1  \n",
       "2               Tier 3      Grocery Store  \n",
       "3               Tier 2  Supermarket Type1  \n",
       "4               Tier 3  Supermarket Type3  "
      ]
     },
     "execution_count": 39,
     "metadata": {},
     "output_type": "execute_result"
    }
   ],
   "source": [
    "big_mart_data_test = pd.read_csv('/Users/karthik/Downloads/test.csv')\n",
    "big_mart_data_test.head()"
   ]
  },
  {
   "cell_type": "code",
   "execution_count": 40,
   "id": "8ef1eb8a",
   "metadata": {},
   "outputs": [
    {
     "data": {
      "text/plain": [
       "Item_Identifier                 0\n",
       "Item_Weight                   976\n",
       "Item_Fat_Content                0\n",
       "Item_Visibility                 0\n",
       "Item_Type                       0\n",
       "Item_MRP                        0\n",
       "Outlet_Identifier               0\n",
       "Outlet_Establishment_Year       0\n",
       "Outlet_Size                  1606\n",
       "Outlet_Location_Type            0\n",
       "Outlet_Type                     0\n",
       "dtype: int64"
      ]
     },
     "execution_count": 40,
     "metadata": {},
     "output_type": "execute_result"
    }
   ],
   "source": [
    "big_mart_data_test.isnull().sum()"
   ]
  },
  {
   "cell_type": "code",
   "execution_count": 41,
   "id": "a6059fac",
   "metadata": {},
   "outputs": [],
   "source": [
    "big_mart_data_test['Item_Weight'].fillna(big_mart_data_test['Item_Weight'].mean(),inplace=True)"
   ]
  },
  {
   "cell_type": "code",
   "execution_count": 42,
   "id": "59c7e764",
   "metadata": {},
   "outputs": [
    {
     "data": {
      "text/plain": [
       "0    Medium\n",
       "dtype: object"
      ]
     },
     "execution_count": 42,
     "metadata": {},
     "output_type": "execute_result"
    }
   ],
   "source": [
    "big_mart_data_test.Outlet_Size.mode()"
   ]
  },
  {
   "cell_type": "code",
   "execution_count": 43,
   "id": "1a8f2edf",
   "metadata": {},
   "outputs": [],
   "source": [
    "big_mart_data_test['Outlet_Size'].fillna(outlet_Size_mode,inplace=True)"
   ]
  },
  {
   "cell_type": "code",
   "execution_count": 44,
   "id": "3744d104",
   "metadata": {},
   "outputs": [
    {
     "data": {
      "text/plain": [
       "Item_Identifier              0\n",
       "Item_Weight                  0\n",
       "Item_Fat_Content             0\n",
       "Item_Visibility              0\n",
       "Item_Type                    0\n",
       "Item_MRP                     0\n",
       "Outlet_Identifier            0\n",
       "Outlet_Establishment_Year    0\n",
       "Outlet_Size                  0\n",
       "Outlet_Location_Type         0\n",
       "Outlet_Type                  0\n",
       "dtype: int64"
      ]
     },
     "execution_count": 44,
     "metadata": {},
     "output_type": "execute_result"
    }
   ],
   "source": [
    "big_mart_data_test.isnull().sum()"
   ]
  },
  {
   "cell_type": "code",
   "execution_count": 45,
   "id": "bfa8510a",
   "metadata": {},
   "outputs": [],
   "source": [
    "big_mart_data_test.Item_Fat_Content = le.fit_transform(big_mart_data_test.Item_Fat_Content)\n",
    "big_mart_data_test.Item_Identifier = le.fit_transform(big_mart_data_test.Item_Identifier)\n",
    "big_mart_data_test.Item_Type = le.fit_transform(big_mart_data_test.Item_Type)\n",
    "big_mart_data_test.Outlet_Identifier = le.fit_transform(big_mart_data_test.Outlet_Identifier)\n",
    "big_mart_data_test.Outlet_Size = le.fit_transform(big_mart_data_test.Outlet_Size)\n",
    "big_mart_data_test.Outlet_Location_Type = le.fit_transform(big_mart_data_test.Outlet_Location_Type)\n",
    "big_mart_data_test.Outlet_Type = le.fit_transform(big_mart_data_test.Outlet_Type)"
   ]
  },
  {
   "cell_type": "code",
   "execution_count": 46,
   "id": "4396bf66",
   "metadata": {},
   "outputs": [
    {
     "data": {
      "text/html": [
       "<div>\n",
       "<style scoped>\n",
       "    .dataframe tbody tr th:only-of-type {\n",
       "        vertical-align: middle;\n",
       "    }\n",
       "\n",
       "    .dataframe tbody tr th {\n",
       "        vertical-align: top;\n",
       "    }\n",
       "\n",
       "    .dataframe thead th {\n",
       "        text-align: right;\n",
       "    }\n",
       "</style>\n",
       "<table border=\"1\" class=\"dataframe\">\n",
       "  <thead>\n",
       "    <tr style=\"text-align: right;\">\n",
       "      <th></th>\n",
       "      <th>Item_Identifier</th>\n",
       "      <th>Item_Weight</th>\n",
       "      <th>Item_Fat_Content</th>\n",
       "      <th>Item_Visibility</th>\n",
       "      <th>Item_Type</th>\n",
       "      <th>Item_MRP</th>\n",
       "      <th>Outlet_Identifier</th>\n",
       "      <th>Outlet_Establishment_Year</th>\n",
       "      <th>Outlet_Size</th>\n",
       "      <th>Outlet_Location_Type</th>\n",
       "      <th>Outlet_Type</th>\n",
       "    </tr>\n",
       "  </thead>\n",
       "  <tbody>\n",
       "    <tr>\n",
       "      <th>0</th>\n",
       "      <td>1103</td>\n",
       "      <td>20.750000</td>\n",
       "      <td>1</td>\n",
       "      <td>0.007565</td>\n",
       "      <td>13</td>\n",
       "      <td>107.8622</td>\n",
       "      <td>9</td>\n",
       "      <td>1999</td>\n",
       "      <td>1</td>\n",
       "      <td>0</td>\n",
       "      <td>1</td>\n",
       "    </tr>\n",
       "    <tr>\n",
       "      <th>1</th>\n",
       "      <td>1067</td>\n",
       "      <td>8.300000</td>\n",
       "      <td>4</td>\n",
       "      <td>0.038428</td>\n",
       "      <td>4</td>\n",
       "      <td>87.3198</td>\n",
       "      <td>2</td>\n",
       "      <td>2007</td>\n",
       "      <td>1</td>\n",
       "      <td>1</td>\n",
       "      <td>1</td>\n",
       "    </tr>\n",
       "    <tr>\n",
       "      <th>2</th>\n",
       "      <td>1406</td>\n",
       "      <td>14.600000</td>\n",
       "      <td>1</td>\n",
       "      <td>0.099575</td>\n",
       "      <td>11</td>\n",
       "      <td>241.7538</td>\n",
       "      <td>0</td>\n",
       "      <td>1998</td>\n",
       "      <td>1</td>\n",
       "      <td>2</td>\n",
       "      <td>0</td>\n",
       "    </tr>\n",
       "    <tr>\n",
       "      <th>3</th>\n",
       "      <td>809</td>\n",
       "      <td>7.315000</td>\n",
       "      <td>1</td>\n",
       "      <td>0.015388</td>\n",
       "      <td>13</td>\n",
       "      <td>155.0340</td>\n",
       "      <td>2</td>\n",
       "      <td>2007</td>\n",
       "      <td>1</td>\n",
       "      <td>1</td>\n",
       "      <td>1</td>\n",
       "    </tr>\n",
       "    <tr>\n",
       "      <th>4</th>\n",
       "      <td>1184</td>\n",
       "      <td>12.695633</td>\n",
       "      <td>2</td>\n",
       "      <td>0.118599</td>\n",
       "      <td>4</td>\n",
       "      <td>234.2300</td>\n",
       "      <td>5</td>\n",
       "      <td>1985</td>\n",
       "      <td>1</td>\n",
       "      <td>2</td>\n",
       "      <td>3</td>\n",
       "    </tr>\n",
       "  </tbody>\n",
       "</table>\n",
       "</div>"
      ],
      "text/plain": [
       "   Item_Identifier  Item_Weight  Item_Fat_Content  Item_Visibility  Item_Type  \\\n",
       "0             1103    20.750000                 1         0.007565         13   \n",
       "1             1067     8.300000                 4         0.038428          4   \n",
       "2             1406    14.600000                 1         0.099575         11   \n",
       "3              809     7.315000                 1         0.015388         13   \n",
       "4             1184    12.695633                 2         0.118599          4   \n",
       "\n",
       "   Item_MRP  Outlet_Identifier  Outlet_Establishment_Year  Outlet_Size  \\\n",
       "0  107.8622                  9                       1999            1   \n",
       "1   87.3198                  2                       2007            1   \n",
       "2  241.7538                  0                       1998            1   \n",
       "3  155.0340                  2                       2007            1   \n",
       "4  234.2300                  5                       1985            1   \n",
       "\n",
       "   Outlet_Location_Type  Outlet_Type  \n",
       "0                     0            1  \n",
       "1                     1            1  \n",
       "2                     2            0  \n",
       "3                     1            1  \n",
       "4                     2            3  "
      ]
     },
     "execution_count": 46,
     "metadata": {},
     "output_type": "execute_result"
    }
   ],
   "source": [
    "big_mart_data_test.head()"
   ]
  },
  {
   "cell_type": "code",
   "execution_count": 47,
   "id": "5da6af22",
   "metadata": {
    "scrolled": true
   },
   "outputs": [
    {
     "data": {
      "text/plain": [
       "[1587.5450439453125,\n",
       " 1312.276611328125,\n",
       " 515.9055786132812,\n",
       " 2388.950439453125,\n",
       " 6157.2265625,\n",
       " 1861.6636962890625,\n",
       " 643.9454345703125,\n",
       " 2008.4583740234375,\n",
       " 1494.8917236328125,\n",
       " 3000.57568359375,\n",
       " 1865.9066162109375,\n",
       " 1360.76953125,\n",
       " 671.8949584960938,\n",
       " 2020.7484130859375,\n",
       " 747.4069213867188,\n",
       " 2388.424072265625,\n",
       " 3023.805908203125,\n",
       " 2935.968994140625,\n",
       " 2963.552734375,\n",
       " 454.2263488769531,\n",
       " 2817.098388671875,\n",
       " 3366.372802734375,\n",
       " 787.76611328125,\n",
       " 348.6415100097656,\n",
       " 3044.709716796875,\n",
       " 405.4249267578125,\n",
       " 777.0869750976562,\n",
       " 2460.068115234375,\n",
       " 4080.654541015625,\n",
       " 1967.9317626953125,\n",
       " 65.33251953125,\n",
       " 2894.568359375,\n",
       " 511.6580505371094,\n",
       " 5085.7529296875,\n",
       " 2516.32421875,\n",
       " 5541.96630859375,\n",
       " 2229.50830078125,\n",
       " 244.19862365722656,\n",
       " 3081.129150390625,\n",
       " 2452.06689453125,\n",
       " 1784.3651123046875,\n",
       " 264.6520080566406,\n",
       " 2869.059326171875,\n",
       " 2193.97802734375,\n",
       " 323.214111328125,\n",
       " 1714.3797607421875,\n",
       " 174.18386840820312,\n",
       " 3031.82958984375,\n",
       " 3756.16845703125,\n",
       " 2031.259033203125,\n",
       " 910.0504150390625,\n",
       " 1642.7125244140625,\n",
       " 3062.158935546875,\n",
       " 1944.9066162109375,\n",
       " 4853.0244140625,\n",
       " 3190.419189453125,\n",
       " 3044.549560546875,\n",
       " 614.184326171875,\n",
       " 646.5123901367188,\n",
       " 1358.9967041015625,\n",
       " 2378.54736328125,\n",
       " 3681.887451171875,\n",
       " 3369.97314453125,\n",
       " 1513.3614501953125,\n",
       " 2352.8916015625,\n",
       " 2474.7265625,\n",
       " 2522.400146484375,\n",
       " 3820.390625,\n",
       " 3122.8095703125,\n",
       " 3886.001708984375,\n",
       " 3111.0576171875,\n",
       " 2548.232177734375,\n",
       " 1780.03466796875,\n",
       " 4089.155029296875,\n",
       " 3690.73046875,\n",
       " 2603.735107421875,\n",
       " 450.790283203125,\n",
       " 2454.4345703125,\n",
       " 747.3109741210938,\n",
       " 2410.15234375,\n",
       " 2458.23876953125,\n",
       " 1638.6982421875,\n",
       " 1614.55517578125,\n",
       " 3037.097900390625,\n",
       " 2818.224365234375,\n",
       " 1660.9166259765625,\n",
       " 3736.130615234375,\n",
       " 3403.14697265625,\n",
       " 752.5736694335938,\n",
       " 521.216552734375,\n",
       " 2581.52978515625,\n",
       " 5783.33740234375,\n",
       " 2606.36328125,\n",
       " 1371.04150390625,\n",
       " 2015.0855712890625,\n",
       " 769.8189697265625,\n",
       " 1983.0858154296875,\n",
       " 2097.83837890625,\n",
       " 3212.9287109375,\n",
       " 1189.9193115234375,\n",
       " 2172.219970703125,\n",
       " 1506.603759765625,\n",
       " 2791.0068359375,\n",
       " 2036.6517333984375,\n",
       " 611.2189331054688,\n",
       " 6197.45166015625,\n",
       " 692.8438720703125,\n",
       " 833.7518920898438,\n",
       " 1430.320556640625,\n",
       " 3528.130615234375,\n",
       " 414.07537841796875,\n",
       " 3106.54541015625,\n",
       " 197.352294921875,\n",
       " 6410.7724609375,\n",
       " 1537.6510009765625,\n",
       " 2211.643310546875,\n",
       " 881.0240478515625,\n",
       " 1486.9619140625,\n",
       " 1539.1514892578125,\n",
       " 1811.925537109375,\n",
       " 4788.35107421875,\n",
       " 580.3267822265625,\n",
       " 1515.5601806640625,\n",
       " 1548.8095703125,\n",
       " 3162.337890625,\n",
       " 4306.42919921875,\n",
       " 2050.936767578125,\n",
       " 523.7650756835938,\n",
       " 1596.378662109375,\n",
       " 1672.76416015625,\n",
       " 2671.301025390625,\n",
       " 1955.4278564453125,\n",
       " 1679.358642578125,\n",
       " 209.4608917236328,\n",
       " 1300.4239501953125,\n",
       " 363.6871643066406,\n",
       " 511.9119567871094,\n",
       " 1288.349365234375,\n",
       " 322.38836669921875,\n",
       " 2355.57958984375,\n",
       " 549.955810546875,\n",
       " 621.5131225585938,\n",
       " 1472.9381103515625,\n",
       " 2005.0758056640625,\n",
       " 1423.1602783203125,\n",
       " 2010.4691162109375,\n",
       " 2341.09814453125,\n",
       " 4813.3876953125,\n",
       " 1642.5933837890625,\n",
       " 1623.5950927734375,\n",
       " 1939.2518310546875,\n",
       " 3895.4091796875,\n",
       " 484.3553161621094,\n",
       " 4318.8095703125,\n",
       " 2287.75146484375,\n",
       " 2022.8023681640625,\n",
       " 655.2913818359375,\n",
       " 1051.3472900390625,\n",
       " 1306.672607421875,\n",
       " 909.9781494140625,\n",
       " 2523.613037109375,\n",
       " 3064.809814453125,\n",
       " 4083.6689453125,\n",
       " 3398.3125,\n",
       " 1160.6536865234375,\n",
       " 246.78256225585938,\n",
       " 2366.65478515625,\n",
       " 2845.00390625,\n",
       " 2468.09765625,\n",
       " 540.8826293945312,\n",
       " 3308.973388671875,\n",
       " 2613.390380859375,\n",
       " 269.73388671875,\n",
       " 119.2979736328125,\n",
       " 2374.50732421875,\n",
       " 3258.768310546875,\n",
       " 3151.524169921875,\n",
       " 4976.63232421875,\n",
       " 965.8887329101562,\n",
       " 5562.4375,\n",
       " 1687.892578125,\n",
       " 2790.47802734375,\n",
       " 3950.743408203125,\n",
       " 829.9056396484375,\n",
       " 295.3310546875,\n",
       " 1777.2230224609375,\n",
       " 3180.192138671875,\n",
       " 3910.652587890625,\n",
       " 3841.18310546875,\n",
       " 2750.31787109375,\n",
       " 1672.259033203125,\n",
       " 3057.560791015625,\n",
       " 2347.0244140625,\n",
       " 618.3604125976562,\n",
       " 791.62841796875,\n",
       " 3887.86328125,\n",
       " 558.3482055664062,\n",
       " 3158.612060546875,\n",
       " 2743.51025390625,\n",
       " 172.42652893066406,\n",
       " 2889.90869140625,\n",
       " 2132.498046875,\n",
       " 3185.718505859375,\n",
       " 2415.732177734375,\n",
       " 1822.6572265625,\n",
       " 1833.583251953125,\n",
       " 3815.713623046875,\n",
       " 1461.6173095703125,\n",
       " 3185.465087890625,\n",
       " 1898.5255126953125,\n",
       " 3109.365966796875,\n",
       " 120.70773315429688,\n",
       " 3124.4755859375,\n",
       " 1492.26416015625,\n",
       " 3867.11572265625,\n",
       " 2074.180908203125,\n",
       " 262.8183288574219,\n",
       " 6516.4873046875,\n",
       " 2411.46435546875,\n",
       " 3850.5087890625,\n",
       " 394.5548400878906,\n",
       " 2215.6923828125,\n",
       " 2793.1455078125,\n",
       " 2869.253662109375,\n",
       " 1875.1099853515625,\n",
       " 1328.046630859375,\n",
       " 3314.070556640625,\n",
       " 2560.37353515625,\n",
       " 670.9072875976562,\n",
       " 1529.3096923828125,\n",
       " 4059.391357421875,\n",
       " 362.5661926269531,\n",
       " 1548.1451416015625,\n",
       " 1760.3560791015625,\n",
       " 1181.281494140625,\n",
       " 1659.8466796875,\n",
       " 2120.66845703125,\n",
       " 1905.24853515625,\n",
       " 560.1915893554688,\n",
       " 2994.888427734375,\n",
       " 95.09626007080078,\n",
       " 3919.922607421875,\n",
       " 336.17864990234375,\n",
       " 1630.140869140625,\n",
       " 270.1263732910156,\n",
       " 1873.750244140625,\n",
       " 764.1215209960938,\n",
       " 653.5399169921875,\n",
       " 211.28399658203125,\n",
       " 3851.46044921875,\n",
       " 3816.673828125,\n",
       " 421.411865234375,\n",
       " 246.49151611328125,\n",
       " 1628.6121826171875,\n",
       " 3698.77392578125,\n",
       " 1589.3409423828125,\n",
       " 4072.40478515625,\n",
       " 4075.906494140625,\n",
       " 1152.3651123046875,\n",
       " 598.9727783203125,\n",
       " 3627.248779296875,\n",
       " 2266.19287109375,\n",
       " 2371.62158203125,\n",
       " 3852.082763671875,\n",
       " 3081.550048828125,\n",
       " 2822.0166015625,\n",
       " 2757.3125,\n",
       " 3038.00830078125,\n",
       " 1707.7825927734375,\n",
       " 3709.118408203125,\n",
       " 3817.095458984375,\n",
       " 1821.961669921875,\n",
       " 3524.366455078125,\n",
       " 2326.736083984375,\n",
       " 776.618408203125,\n",
       " 1276.8922119140625,\n",
       " 2388.0751953125,\n",
       " 1018.0308837890625,\n",
       " 1844.730224609375,\n",
       " 1912.0518798828125,\n",
       " 2342.864501953125,\n",
       " 2669.88134765625,\n",
       " 2351.989013671875,\n",
       " 2399.979248046875,\n",
       " 6150.66259765625,\n",
       " 4092.4140625,\n",
       " 292.27630615234375,\n",
       " 1353.53564453125,\n",
       " 840.5161743164062,\n",
       " 880.7347412109375,\n",
       " 628.0504150390625,\n",
       " 1858.9927978515625,\n",
       " 1656.00048828125,\n",
       " 2371.291259765625,\n",
       " 3777.687255859375,\n",
       " 3070.899169921875,\n",
       " 2000.736083984375,\n",
       " 2611.141845703125,\n",
       " 327.2645263671875,\n",
       " 511.7040710449219,\n",
       " 538.26025390625,\n",
       " 2849.41552734375,\n",
       " 3369.287109375,\n",
       " 1662.0462646484375,\n",
       " 1514.73046875,\n",
       " 2506.823974609375,\n",
       " 4358.099609375,\n",
       " 1587.625244140625,\n",
       " 2835.92626953125,\n",
       " 4067.980224609375,\n",
       " 1327.544921875,\n",
       " 3873.311767578125,\n",
       " 1836.1956787109375,\n",
       " 2025.583740234375,\n",
       " 1654.8251953125,\n",
       " 1180.20849609375,\n",
       " 3547.05322265625,\n",
       " 3106.54541015625,\n",
       " 3759.37548828125,\n",
       " 1802.85888671875,\n",
       " 1649.156982421875,\n",
       " 1640.3170166015625,\n",
       " 2852.8125,\n",
       " 3026.970703125,\n",
       " 3095.60498046875,\n",
       " 3310.686767578125,\n",
       " 188.78451538085938,\n",
       " 2122.05126953125,\n",
       " 903.5233764648438,\n",
       " 513.0447387695312,\n",
       " 479.8724365234375,\n",
       " 3296.69189453125,\n",
       " 4279.625,\n",
       " 156.13816833496094,\n",
       " 1641.85693359375,\n",
       " 1872.4449462890625,\n",
       " 928.0738525390625,\n",
       " 1608.7928466796875,\n",
       " 3404.763671875,\n",
       " 3184.12939453125,\n",
       " 2811.532958984375,\n",
       " 631.70947265625,\n",
       " 2771.40283203125,\n",
       " 3380.582763671875,\n",
       " 1627.41259765625,\n",
       " 2296.71826171875,\n",
       " 2418.956787109375,\n",
       " 4907.26806640625,\n",
       " 2471.18212890625,\n",
       " 1501.3492431640625,\n",
       " 3004.843994140625,\n",
       " 725.3529052734375,\n",
       " 246.8936767578125,\n",
       " 654.0452270507812,\n",
       " 3395.6884765625,\n",
       " 2850.037841796875,\n",
       " 3375.523681640625,\n",
       " 846.3353881835938,\n",
       " 2734.464599609375,\n",
       " 2797.543212890625,\n",
       " 551.1069946289062,\n",
       " 1971.304931640625,\n",
       " 1368.474609375,\n",
       " 776.38671875,\n",
       " 520.8040771484375,\n",
       " 1877.3157958984375,\n",
       " 1588.31494140625,\n",
       " 1653.2978515625,\n",
       " 2552.0986328125,\n",
       " 2643.0673828125,\n",
       " 4123.50244140625,\n",
       " 407.35223388671875,\n",
       " 409.69775390625,\n",
       " 3876.63232421875,\n",
       " 4143.783203125,\n",
       " 1497.11962890625,\n",
       " 4392.60546875,\n",
       " 594.794189453125,\n",
       " 2499.563232421875,\n",
       " 3402.026123046875,\n",
       " 1633.9378662109375,\n",
       " 3073.80859375,\n",
       " 1370.9078369140625,\n",
       " 115.18807983398438,\n",
       " 1703.4798583984375,\n",
       " 288.21807861328125,\n",
       " 454.38934326171875,\n",
       " 2823.628662109375,\n",
       " 2029.208984375,\n",
       " 1480.007568359375,\n",
       " 3226.159912109375,\n",
       " 3907.23193359375,\n",
       " 2049.550048828125,\n",
       " 406.21759033203125,\n",
       " 2028.96337890625,\n",
       " 2453.748291015625,\n",
       " 1324.0517578125,\n",
       " 1784.676025390625,\n",
       " 3209.498291015625,\n",
       " 1614.7113037109375,\n",
       " 2140.26513671875,\n",
       " 782.7388305664062,\n",
       " 2774.690185546875,\n",
       " 262.4606628417969,\n",
       " 2606.06689453125,\n",
       " 3149.857177734375,\n",
       " 832.1082153320312,\n",
       " 3121.0693359375,\n",
       " 1343.2452392578125,\n",
       " 299.48529052734375,\n",
       " 3172.418212890625,\n",
       " 2573.336669921875,\n",
       " 888.6552734375,\n",
       " 2830.7265625,\n",
       " 1789.913818359375,\n",
       " 273.2752380371094,\n",
       " 3593.258544921875,\n",
       " 725.1368408203125,\n",
       " 750.6194458007812,\n",
       " 5348.5849609375,\n",
       " 1677.125732421875,\n",
       " 1076.5966796875,\n",
       " 1062.6868896484375,\n",
       " 1963.5234375,\n",
       " 2012.5418701171875,\n",
       " 3318.850341796875,\n",
       " 3966.87158203125,\n",
       " 1268.0025634765625,\n",
       " 3822.65625,\n",
       " 930.0477905273438,\n",
       " 1351.377197265625,\n",
       " 2503.442626953125,\n",
       " 427.9300231933594,\n",
       " 1930.236328125,\n",
       " 3045.203125,\n",
       " 5196.130859375,\n",
       " 207.42532348632812,\n",
       " 1498.819580078125,\n",
       " 3442.669921875,\n",
       " 2499.264892578125,\n",
       " 1853.619384765625,\n",
       " 2601.674560546875,\n",
       " 662.0846557617188,\n",
       " 1430.30908203125,\n",
       " 3079.52587890625,\n",
       " 1854.7603759765625,\n",
       " 2761.44140625,\n",
       " 3801.291015625,\n",
       " 4915.38818359375,\n",
       " 2045.632080078125,\n",
       " 365.34991455078125,\n",
       " 319.09881591796875,\n",
       " 2999.25634765625,\n",
       " 1997.3497314453125,\n",
       " 2779.090576171875,\n",
       " 1547.240966796875,\n",
       " 1646.9512939453125,\n",
       " 1385.081787109375,\n",
       " 3935.099853515625,\n",
       " 1544.8533935546875,\n",
       " 2317.6337890625,\n",
       " 1833.840087890625,\n",
       " 965.45166015625,\n",
       " 2075.753662109375,\n",
       " 4602.19775390625,\n",
       " 371.1485290527344,\n",
       " 1354.2293701171875,\n",
       " 577.1793212890625,\n",
       " 4355.275390625,\n",
       " 1603.4041748046875,\n",
       " 4070.574951171875,\n",
       " 1430.3843994140625,\n",
       " 2576.942138671875,\n",
       " 113.97329711914062,\n",
       " 105.09175872802734,\n",
       " 872.7839965820312,\n",
       " 3125.435791015625,\n",
       " 3018.356201171875,\n",
       " 262.9568176269531,\n",
       " 655.5150146484375,\n",
       " 3723.154052734375,\n",
       " 1276.02392578125,\n",
       " 2709.78955078125,\n",
       " 3853.78466796875,\n",
       " 3690.291259765625,\n",
       " 1946.82177734375,\n",
       " 3638.296142578125,\n",
       " 2780.0234375,\n",
       " 3582.158447265625,\n",
       " 1358.7027587890625,\n",
       " 2338.541259765625,\n",
       " 3996.36376953125,\n",
       " 2784.05078125,\n",
       " 1305.623291015625,\n",
       " 428.5943908691406,\n",
       " 3349.301025390625,\n",
       " 1892.5430908203125,\n",
       " 4026.68505859375,\n",
       " 3187.512939453125,\n",
       " 2452.42529296875,\n",
       " 2099.62548828125,\n",
       " 525.2860717773438,\n",
       " 1315.121826171875,\n",
       " 3562.8291015625,\n",
       " 677.636474609375,\n",
       " 2871.750244140625,\n",
       " 205.01930236816406,\n",
       " 1861.6636962890625,\n",
       " 3034.7119140625,\n",
       " 3342.244140625,\n",
       " 3698.556396484375,\n",
       " 4245.12841796875,\n",
       " 180.86207580566406,\n",
       " 1663.558837890625,\n",
       " 2787.388916015625,\n",
       " 2506.58154296875,\n",
       " 238.89207458496094,\n",
       " 3806.89404296875,\n",
       " 2360.88916015625,\n",
       " 588.537353515625,\n",
       " 1837.8397216796875,\n",
       " 637.7620239257812,\n",
       " 654.4784545898438,\n",
       " 1987.9661865234375,\n",
       " 5236.95703125,\n",
       " 6327.04931640625,\n",
       " 2700.195068359375,\n",
       " 1791.1767578125,\n",
       " 527.409423828125,\n",
       " 3030.349609375,\n",
       " 1306.2877197265625,\n",
       " 3266.0400390625,\n",
       " 1528.157470703125,\n",
       " 1849.7181396484375,\n",
       " 602.5341796875,\n",
       " 3190.289306640625,\n",
       " 1860.5665283203125,\n",
       " 3944.408447265625,\n",
       " 2023.9876708984375,\n",
       " 3834.28125,\n",
       " 2645.846435546875,\n",
       " 590.875,\n",
       " 1303.5982666015625,\n",
       " 278.9349670410156,\n",
       " 3765.52197265625,\n",
       " 6448.76416015625,\n",
       " 2299.919677734375,\n",
       " 476.078125,\n",
       " 3757.376708984375,\n",
       " 4107.56689453125,\n",
       " 928.1180419921875,\n",
       " 1649.130615234375,\n",
       " 435.1904602050781,\n",
       " 3567.83203125,\n",
       " 2341.345947265625,\n",
       " 1330.166015625,\n",
       " 2749.518310546875,\n",
       " 305.7038269042969,\n",
       " 2704.048095703125,\n",
       " 3092.595458984375,\n",
       " 2581.484130859375,\n",
       " 922.2927856445312,\n",
       " 3120.22119140625,\n",
       " 2560.750244140625,\n",
       " 3189.097412109375,\n",
       " 3624.541748046875,\n",
       " 4331.35986328125,\n",
       " 2384.459228515625,\n",
       " 1654.2396240234375,\n",
       " 3118.8818359375,\n",
       " 1286.967041015625,\n",
       " 2635.008544921875,\n",
       " 1405.011962890625,\n",
       " 1567.42333984375,\n",
       " 2587.881103515625,\n",
       " 212.4890899658203,\n",
       " 213.02688598632812,\n",
       " 973.4382934570312,\n",
       " 514.35107421875,\n",
       " 2121.47509765625,\n",
       " 2956.384033203125,\n",
       " 301.42724609375,\n",
       " 3880.2294921875,\n",
       " 2445.489990234375,\n",
       " 1486.924072265625,\n",
       " 3171.450439453125,\n",
       " 3701.347412109375,\n",
       " 663.1104125976562,\n",
       " 3160.31591796875,\n",
       " 2547.44970703125,\n",
       " 4238.4921875,\n",
       " 1301.36767578125,\n",
       " 2532.305419921875,\n",
       " 2846.512939453125,\n",
       " 3666.509033203125,\n",
       " 632.0537109375,\n",
       " 2072.41552734375,\n",
       " 2012.197265625,\n",
       " 2955.79296875,\n",
       " 2304.9072265625,\n",
       " 3061.996826171875,\n",
       " 2868.792724609375,\n",
       " 2371.52490234375,\n",
       " 1878.247314453125,\n",
       " 2062.71728515625,\n",
       " 5341.02099609375,\n",
       " 2041.66455078125,\n",
       " 1380.495849609375,\n",
       " 799.1588134765625,\n",
       " 399.38616943359375,\n",
       " 395.6546630859375,\n",
       " 1886.9703369140625,\n",
       " 3030.703125,\n",
       " 3343.277587890625,\n",
       " 2411.821533203125,\n",
       " 319.6070556640625,\n",
       " 1508.1170654296875,\n",
       " 861.4264526367188,\n",
       " 989.4511108398438,\n",
       " 286.4157409667969,\n",
       " 419.0201110839844,\n",
       " 220.11065673828125,\n",
       " 1989.689453125,\n",
       " 2436.41796875,\n",
       " 2859.053955078125,\n",
       " 2215.6923828125,\n",
       " 520.6827392578125,\n",
       " 3110.10009765625,\n",
       " 1479.29443359375,\n",
       " 913.1256713867188,\n",
       " 1984.8779296875,\n",
       " 1793.580322265625,\n",
       " 1298.881591796875,\n",
       " 1159.446044921875,\n",
       " 1412.792724609375,\n",
       " 229.22557067871094,\n",
       " 2081.836181640625,\n",
       " 603.8335571289062,\n",
       " 1305.5235595703125,\n",
       " 2968.7744140625,\n",
       " 834.3547973632812,\n",
       " 2334.03173828125,\n",
       " 5026.28857421875,\n",
       " 3282.455322265625,\n",
       " 1802.9288330078125,\n",
       " 2364.44677734375,\n",
       " 2152.7119140625,\n",
       " 2551.37158203125,\n",
       " 1043.3035888671875,\n",
       " 602.5037231445312,\n",
       " 1899.3348388671875,\n",
       " 3903.36572265625,\n",
       " 1786.775390625,\n",
       " 2939.744140625,\n",
       " 2870.18212890625,\n",
       " 3682.774169921875,\n",
       " 730.9644165039062,\n",
       " 274.3139953613281,\n",
       " 4760.86572265625,\n",
       " 4605.56689453125,\n",
       " 2814.614501953125,\n",
       " 3310.13037109375,\n",
       " 3690.53271484375,\n",
       " 3552.49755859375,\n",
       " 598.3604736328125,\n",
       " 1634.82958984375,\n",
       " 2694.0048828125,\n",
       " 1622.510986328125,\n",
       " 2575.753662109375,\n",
       " 3372.191650390625,\n",
       " 639.5733032226562,\n",
       " 3290.4541015625,\n",
       " 3622.885009765625,\n",
       " 1789.1146240234375,\n",
       " 98.73517608642578,\n",
       " 1636.8984375,\n",
       " 1809.4468994140625,\n",
       " 478.4955749511719,\n",
       " 1888.9542236328125,\n",
       " 2826.943359375,\n",
       " 1626.43017578125,\n",
       " 6179.0830078125,\n",
       " 2031.4849853515625,\n",
       " 600.684326171875,\n",
       " 2444.711181640625,\n",
       " 3143.88671875,\n",
       " 2080.363525390625,\n",
       " 3158.591796875,\n",
       " 3565.00048828125,\n",
       " 112.82080078125,\n",
       " 6264.732421875,\n",
       " 1279.8564453125,\n",
       " 2007.3123779296875,\n",
       " 2352.767333984375,\n",
       " 355.88714599609375,\n",
       " 1668.4176025390625,\n",
       " 4060.814697265625,\n",
       " 667.3743286132812,\n",
       " 2908.582763671875,\n",
       " 2475.449951171875,\n",
       " 4212.4794921875,\n",
       " 1934.408935546875,\n",
       " 1627.5125732421875,\n",
       " 651.1458740234375,\n",
       " 1602.606201171875,\n",
       " 3009.097412109375,\n",
       " 617.7646484375,\n",
       " 3862.724365234375,\n",
       " 3505.294677734375,\n",
       " 3173.0732421875,\n",
       " 3238.455810546875,\n",
       " 2838.8349609375,\n",
       " 3610.968017578125,\n",
       " 784.3202514648438,\n",
       " 1610.419677734375,\n",
       " 2447.0771484375,\n",
       " 2422.6025390625,\n",
       " 230.91595458984375,\n",
       " 2808.771484375,\n",
       " 670.6161499023438,\n",
       " 1507.8209228515625,\n",
       " 609.1486206054688,\n",
       " 272.4715881347656,\n",
       " 2520.789306640625,\n",
       " 3293.943359375,\n",
       " 2765.762939453125,\n",
       " 1111.9615478515625,\n",
       " 1668.1048583984375,\n",
       " 5557.88916015625,\n",
       " 2756.00830078125,\n",
       " 1644.854248046875,\n",
       " 1629.2139892578125,\n",
       " 3162.00634765625,\n",
       " 303.2646484375,\n",
       " 2403.55126953125,\n",
       " 2023.1722412109375,\n",
       " 3031.260986328125,\n",
       " 757.1969604492188,\n",
       " 3622.764404296875,\n",
       " 1812.314208984375,\n",
       " 2004.669921875,\n",
       " 1967.9317626953125,\n",
       " 3227.42578125,\n",
       " 2355.91259765625,\n",
       " 3976.861083984375,\n",
       " 2051.107177734375,\n",
       " 3905.45751953125,\n",
       " 3333.96044921875,\n",
       " 4291.39501953125,\n",
       " 834.013427734375,\n",
       " 6280.4267578125,\n",
       " 2997.355712890625,\n",
       " 2601.964599609375,\n",
       " 855.534912109375,\n",
       " 2072.89501953125,\n",
       " 2843.6015625,\n",
       " 2040.31591796875,\n",
       " 2021.787841796875,\n",
       " 2227.310546875,\n",
       " 1146.3062744140625,\n",
       " 3916.80712890625,\n",
       " 2010.7021484375,\n",
       " 3072.188232421875,\n",
       " 1339.26611328125,\n",
       " 2970.812255859375,\n",
       " 2045.1053466796875,\n",
       " 4904.79296875,\n",
       " 2158.572265625,\n",
       " 1649.7451171875,\n",
       " 2399.2216796875,\n",
       " 1258.38037109375,\n",
       " 3397.094482421875,\n",
       " 2734.111328125,\n",
       " 119.97474670410156,\n",
       " 452.92462158203125,\n",
       " 2851.24560546875,\n",
       " 2819.62451171875,\n",
       " 2817.57177734375,\n",
       " 2324.123779296875,\n",
       " 3995.416259765625,\n",
       " 1375.2064208984375,\n",
       " 1857.020751953125,\n",
       " 1238.32177734375,\n",
       " 699.1787719726562,\n",
       " 2590.9560546875,\n",
       " 611.5863647460938,\n",
       " 1488.0609130859375,\n",
       " 2922.114990234375,\n",
       " 612.7223510742188,\n",
       " 1825.628173828125,\n",
       " 2754.784912109375,\n",
       " 3290.4541015625,\n",
       " 649.3319702148438,\n",
       " 4050.750732421875,\n",
       " 1866.7825927734375,\n",
       " 1293.372314453125,\n",
       " 3620.043701171875,\n",
       " 723.6072998046875,\n",
       " 2639.22509765625,\n",
       " 662.782470703125,\n",
       " 1541.13916015625,\n",
       " 3021.462158203125,\n",
       " 2524.827880859375,\n",
       " 313.1890869140625,\n",
       " 1498.1597900390625,\n",
       " 3168.095947265625,\n",
       " 2572.95751953125,\n",
       " 3311.57861328125,\n",
       " 2891.841796875,\n",
       " 2347.0244140625,\n",
       " 1995.4066162109375,\n",
       " 3089.379638671875,\n",
       " 1525.9127197265625,\n",
       " 1361.4322509765625,\n",
       " 2360.178955078125,\n",
       " 2841.258056640625,\n",
       " 2612.891845703125,\n",
       " 3978.795166015625,\n",
       " 2485.85498046875,\n",
       " 3074.6748046875,\n",
       " 116.13591766357422,\n",
       " 4315.77197265625,\n",
       " 321.0885925292969,\n",
       " 1638.0599365234375,\n",
       " 512.5936279296875,\n",
       " 1500.2957763671875,\n",
       " 2520.789306640625,\n",
       " 3212.19287109375,\n",
       " 686.3615112304688,\n",
       " 751.1668090820312,\n",
       " 1318.6846923828125,\n",
       " 188.22836303710938,\n",
       " 3498.592041015625,\n",
       " 1842.1583251953125,\n",
       " 2021.716796875,\n",
       " 2603.19384765625,\n",
       " 2990.84423828125,\n",
       " 2782.663330078125,\n",
       " 2429.145263671875,\n",
       " 733.1607055664062,\n",
       " 4162.63330078125,\n",
       " 447.3295593261719,\n",
       " 452.00775146484375,\n",
       " 845.1771240234375,\n",
       " 2630.7421875,\n",
       " 555.8156127929688,\n",
       " 1779.9468994140625,\n",
       " 783.63623046875,\n",
       " 1883.2281494140625,\n",
       " 2509.290771484375,\n",
       " 3290.7109375,\n",
       " 4164.7529296875,\n",
       " 5491.28466796875,\n",
       " 2824.948974609375,\n",
       " 716.1608276367188,\n",
       " 3658.887939453125,\n",
       " 1619.4315185546875,\n",
       " 2826.544921875,\n",
       " 525.788330078125,\n",
       " 3552.6943359375,\n",
       " 1875.581787109375,\n",
       " 5658.7314453125,\n",
       " 2001.36328125,\n",
       " 1308.1552734375,\n",
       " 1645.0404052734375,\n",
       " 568.3640747070312,\n",
       " 6378.5537109375,\n",
       " 2707.645263671875,\n",
       " 2126.0908203125,\n",
       " 4417.1552734375,\n",
       " 2198.695556640625,\n",
       " 382.86163330078125,\n",
       " 942.2245483398438,\n",
       " 2785.39208984375,\n",
       " 2449.4833984375,\n",
       " 118.45574188232422,\n",
       " 1241.0001220703125,\n",
       " 1295.0914306640625,\n",
       " 662.1942749023438,\n",
       " 727.8038330078125,\n",
       " 1543.0625,\n",
       " 5207.06884765625,\n",
       " 3079.099853515625,\n",
       " 1414.9693603515625,\n",
       " 4606.0947265625,\n",
       " 2876.392333984375,\n",
       " 2731.112548828125,\n",
       " 582.9637451171875,\n",
       " 340.5102844238281,\n",
       " 2580.86328125,\n",
       " 1035.0086669921875,\n",
       " 1578.1142578125,\n",
       " 1365.81884765625,\n",
       " 3052.248046875,\n",
       " 1354.27587890625,\n",
       " 3886.514404296875,\n",
       " 3751.855224609375,\n",
       " 1791.0775146484375,\n",
       " 1261.795166015625,\n",
       " 1515.4571533203125,\n",
       " 520.2617797851562,\n",
       " 1793.6083984375,\n",
       " 2418.3984375,\n",
       " 334.4609375,\n",
       " 3154.46337890625,\n",
       " 2506.878173828125,\n",
       " 1988.9910888671875,\n",
       " 1501.061767578125,\n",
       " 2936.4482421875,\n",
       " 591.8717651367188,\n",
       " 2787.746337890625,\n",
       " 129.9883575439453,\n",
       " 2678.104248046875,\n",
       " 1935.60498046875,\n",
       " 2381.502685546875,\n",
       " 3014.458251953125,\n",
       " 648.6790161132812,\n",
       " 1906.8375244140625,\n",
       " 5402.8466796875,\n",
       " 1499.72119140625,\n",
       " 2566.713623046875,\n",
       " 1628.6639404296875,\n",
       " 2642.44580078125,\n",
       " 2213.228515625,\n",
       " 758.469970703125,\n",
       " 1647.40283203125,\n",
       " 2078.8681640625,\n",
       " 3814.402587890625,\n",
       " 2137.459716796875,\n",
       " 1580.601318359375,\n",
       " 153.01239013671875,\n",
       " 5902.2138671875,\n",
       " 3762.37451171875,\n",
       " 2471.18212890625,\n",
       " 4757.384765625,\n",
       " 1742.28271484375,\n",
       " 313.7144470214844,\n",
       " 2361.672119140625,\n",
       " 297.2025146484375,\n",
       " 3950.743408203125,\n",
       " 5386.890625,\n",
       " 1888.2667236328125,\n",
       " 2538.79541015625,\n",
       " 360.12579345703125,\n",
       " 1319.7349853515625,\n",
       " 234.244873046875,\n",
       " 729.3448486328125,\n",
       " 778.6392211914062,\n",
       " 2389.645263671875,\n",
       " 1023.4185791015625,\n",
       " 3702.313232421875,\n",
       " 4065.767822265625,\n",
       " 1304.2353515625,\n",
       " 1981.9603271484375,\n",
       " 1076.0118408203125,\n",
       " 1314.31640625,\n",
       " 1361.0615234375,\n",
       " 2338.236083984375,\n",
       " 876.0328369140625,\n",
       " 2489.974365234375,\n",
       " 2026.821533203125,\n",
       " 4056.535888671875,\n",
       " 2932.068603515625,\n",
       " 571.89306640625,\n",
       " 1853.6004638671875,\n",
       " 1870.4490966796875,\n",
       " 2008.10009765625,\n",
       " 3636.149658203125,\n",
       " 2668.694091796875,\n",
       " 251.8541259765625,\n",
       " 5470.708984375,\n",
       " 2137.053955078125,\n",
       " 5350.603515625,\n",
       " 2551.257568359375,\n",
       " 596.5512084960938,\n",
       " 2946.4599609375,\n",
       " 968.4503784179688,\n",
       " 2026.698974609375,\n",
       " 2816.812744140625,\n",
       " 1704.6392822265625,\n",
       " 2457.047119140625,\n",
       " 1260.4820556640625,\n",
       " 2707.21630859375,\n",
       " 4303.6611328125,\n",
       " 3414.057861328125,\n",
       " 1317.5889892578125,\n",
       " 3261.381103515625,\n",
       " 931.312255859375,\n",
       " 1245.4383544921875,\n",
       " 3455.517578125,\n",
       " 1412.9752197265625,\n",
       " 1589.2266845703125,\n",
       " 2760.243408203125,\n",
       " 3587.241943359375,\n",
       " 6054.41162109375,\n",
       " 3691.9130859375,\n",
       " 2413.483154296875,\n",
       " 1613.1943359375,\n",
       " 2121.47509765625,\n",
       " 1345.1417236328125,\n",
       " ...]"
      ]
     },
     "execution_count": 47,
     "metadata": {},
     "output_type": "execute_result"
    }
   ],
   "source": [
    "model.predict(big_mart_data_test).tolist()"
   ]
  }
 ],
 "metadata": {
  "kernelspec": {
   "display_name": "Python 3",
   "language": "python",
   "name": "python3"
  },
  "language_info": {
   "codemirror_mode": {
    "name": "ipython",
    "version": 3
   },
   "file_extension": ".py",
   "mimetype": "text/x-python",
   "name": "python",
   "nbconvert_exporter": "python",
   "pygments_lexer": "ipython3",
   "version": "3.8.8"
  }
 },
 "nbformat": 4,
 "nbformat_minor": 5
}
